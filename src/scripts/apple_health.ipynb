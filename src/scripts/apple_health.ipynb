{
 "cells": [
  {
   "cell_type": "markdown",
   "metadata": {},
   "source": [
    "usage:\n",
    "1. export your health data:\n",
    "   1. open the Health app on your iPhone\n",
    "   2. tap your picture or initials in the top right of the Summary page\n",
    "   3. tap Export All Health Data\n",
    "   4. share the zip to your computer somehow\n",
    "2. extract the `export.xml` file from the zip into `src/scripts` in this repo\n",
    "3. run the notebook"
   ]
  },
  {
   "cell_type": "code",
   "execution_count": null,
   "metadata": {},
   "outputs": [],
   "source": [
    "from xml.etree.ElementTree import iterparse\n",
    "import pandas as pd\n",
    "from xml.etree.ElementTree import Element\n",
    "from pathlib import Path\n",
    "from casefy import casefy\n",
    "import numpy as np\n",
    "from matplotlib import pyplot as plt"
   ]
  },
  {
   "cell_type": "code",
   "execution_count": null,
   "metadata": {},
   "outputs": [],
   "source": [
    "SLEEP_TYPE = \"HKCategoryTypeIdentifierSleepAnalysis\""
   ]
  },
  {
   "cell_type": "code",
   "execution_count": null,
   "metadata": {},
   "outputs": [],
   "source": [
    "plt.rcParams[\"figure.figsize\"] = (14, 6)"
   ]
  },
  {
   "cell_type": "code",
   "execution_count": null,
   "metadata": {},
   "outputs": [],
   "source": [
    "def iter_health_data(\n",
    "    file_path: str | Path,\n",
    "    *,\n",
    "    encoding: str = \"utf-8\",\n",
    "    tags: set[str] | None = {\"Record\"},\n",
    "    types: set[str] | None = None,\n",
    "):\n",
    "    root: Element\n",
    "    element: Element\n",
    "\n",
    "    with open(file_path, encoding=encoding) as f:\n",
    "        iterator = iterparse(f, events=(\"start\", \"end\"))\n",
    "        _, root = next(iterator)\n",
    "\n",
    "        for event, element in iterator:\n",
    "            if (\n",
    "                event == \"end\"\n",
    "                and (tags is None or element.tag in tags)\n",
    "                and (types is None or element.attrib[\"type\"] in types)\n",
    "            ):\n",
    "                yield element.attrib\n",
    "            \n",
    "            # https://stackoverflow.com/a/326541\n",
    "            root.clear()\n"
   ]
  },
  {
   "cell_type": "code",
   "execution_count": null,
   "metadata": {},
   "outputs": [],
   "source": [
    "df = pd.DataFrame(iter_health_data(\"export.xml\", types={SLEEP_TYPE}))\n",
    "df.head(3)"
   ]
  },
  {
   "cell_type": "code",
   "execution_count": null,
   "metadata": {},
   "outputs": [],
   "source": [
    "df.columns = [casefy.snakecase(c) for c in df.columns]\n",
    "df.columns"
   ]
  },
  {
   "cell_type": "code",
   "execution_count": null,
   "metadata": {},
   "outputs": [],
   "source": [
    "df.creation_date = pd.to_datetime(df.creation_date)\n",
    "df.start_date = pd.to_datetime(df.start_date)\n",
    "df.end_date = pd.to_datetime(df.end_date)\n",
    "df.dtypes"
   ]
  },
  {
   "cell_type": "code",
   "execution_count": null,
   "metadata": {},
   "outputs": [],
   "source": [
    "assert df[df.value != \"HKCategoryValueSleepAnalysisInBed\"].empty"
   ]
  },
  {
   "cell_type": "code",
   "execution_count": null,
   "metadata": {},
   "outputs": [],
   "source": [
    "df[\"time_in_bed\"] = df.end_date - df.start_date\n",
    "df.time_in_bed"
   ]
  },
  {
   "cell_type": "code",
   "execution_count": null,
   "metadata": {},
   "outputs": [],
   "source": [
    "df2 = df.groupby(df.creation_date.dt.date)[[\"time_in_bed\"]].sum()\n",
    "df2.index = pd.to_datetime(df2.index)\n",
    "df2[\"sleep\"] = df2.time_in_bed / np.timedelta64(1, \"h\")  # type: ignore\n",
    "df2 = (\n",
    "    df2.loc[\"2021-05-01\":]\n",
    "    .query(\"sleep >= 1\")\n",
    "    .resample(\"D\")\n",
    "    .sum(min_count=1)\n",
    "    .fillna(np.nan)\n",
    ")\n",
    "df2.describe()"
   ]
  },
  {
   "cell_type": "code",
   "execution_count": null,
   "metadata": {},
   "outputs": [],
   "source": [
    "df3 = (\n",
    "    df2.query(\"creation_date.dt.dayofweek < 5\")\n",
    "    .resample(\"D\")\n",
    "    .sum(min_count=1)\n",
    "    .fillna(np.nan)\n",
    ")"
   ]
  },
  {
   "cell_type": "code",
   "execution_count": null,
   "metadata": {},
   "outputs": [],
   "source": [
    "ax = df2.sleep.plot(label=\"hours in bed\", style=\"#c2c2c2\")\n",
    "df2.sleep.rolling(7).mean().plot(label=\"rolling mean\")\n",
    "df3.sleep.rolling(7).mean().plot(label=\"rolling mean (weekdays)\")\n",
    "\n",
    "ax.legend()\n",
    "ax.grid()\n",
    "ax.set_xlabel(\"\")"
   ]
  },
  {
   "cell_type": "code",
   "execution_count": null,
   "metadata": {},
   "outputs": [],
   "source": [
    "ax = df2.loc[\"2023-01-01\":].sleep.plot(label=\"hours in bed\", style=\"#c2c2c2\")\n",
    "df2.loc[\"2023-01-01\":].sleep.rolling(7).mean().plot(label=\"rolling mean\")\n",
    "df3.loc[\"2023-01-01\":].sleep.rolling(7).mean().plot(label=\"rolling mean (weekdays)\")\n",
    "\n",
    "ax.legend()\n",
    "ax.grid()\n",
    "ax.set_xlabel(\"\")"
   ]
  },
  {
   "cell_type": "code",
   "execution_count": null,
   "metadata": {},
   "outputs": [],
   "source": [
    "ax = df2.loc[\"2023-01-01\":].sleep.plot(label=\"hours in bed\")\n",
    "df3.loc[\"2023-01-01\":].sleep.plot(label=\"hours in bed (weekdays)\")\n",
    "\n",
    "ax.legend()\n",
    "ax.grid()\n",
    "ax.set_xlabel(\"\")"
   ]
  },
  {
   "cell_type": "code",
   "execution_count": null,
   "metadata": {},
   "outputs": [],
   "source": [
    "df4 = df2.loc[\"2023-01-01\":]\n",
    "df4 = df4[df4.sleep >= 10][[\"sleep\"]]\n",
    "assert isinstance(df4.index, pd.DatetimeIndex)\n",
    "df4.groupby([df4.index.day_of_week, df4.index.day_name()]).count().droplevel(0, \"index\")"
   ]
  }
 ],
 "metadata": {
  "kernelspec": {
   "display_name": "venv",
   "language": "python",
   "name": "python3"
  },
  "language_info": {
   "codemirror_mode": {
    "name": "ipython",
    "version": 3
   },
   "file_extension": ".py",
   "mimetype": "text/x-python",
   "name": "python",
   "nbconvert_exporter": "python",
   "pygments_lexer": "ipython3",
   "version": "3.11.0"
  }
 },
 "nbformat": 4,
 "nbformat_minor": 2
}
